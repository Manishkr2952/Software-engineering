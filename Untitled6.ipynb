{
  "nbformat": 4,
  "nbformat_minor": 0,
  "metadata": {
    "colab": {
      "provenance": [],
      "authorship_tag": "ABX9TyO30o+6QJFc4VScmIbkGn3w",
      "include_colab_link": true
    },
    "kernelspec": {
      "name": "python3",
      "display_name": "Python 3"
    },
    "language_info": {
      "name": "python"
    }
  },
  "cells": [
    {
      "cell_type": "markdown",
      "metadata": {
        "id": "view-in-github",
        "colab_type": "text"
      },
      "source": [
        "<a href=\"https://colab.research.google.com/github/Manishkr2952/Software-engineering/blob/main/Untitled6.ipynb\" target=\"_parent\"><img src=\"https://colab.research.google.com/assets/colab-badge.svg\" alt=\"Open In Colab\"/></a>"
      ]
    },
    {
      "cell_type": "code",
      "execution_count": 2,
      "metadata": {
        "id": "nvovbHgICiLh"
      },
      "outputs": [],
      "source": [
        "import os\n",
        "# Function to calculate temperature using a quadratic equation\n",
        "def calculate_temperature(a, b, c, time):\n",
        "    return a * (time ** 2) + b * time + c\n"
      ]
    },
    {
      "cell_type": "code",
      "source": [
        "# Function to parse input lines with labeled values\n",
        "def parse_input_line(line):\n",
        "    try:\n",
        "        # Split the line by spaces and extract values after labels\n",
        "        parts = line.strip().split()\n",
        "        a = float(parts[1])\n",
        "        b = float(parts[3])\n",
        "        c = float(parts[5])\n",
        "        time = float(parts[7])\n",
        "        return a, b, c, time\n",
        "    except (IndexError, ValueError) as e:\n",
        "        raise ValueError(\"Invalid input format. Ensure the line follows the format 'a: <value> b: <value> c: <value> time: <value>'\") from e"
      ],
      "metadata": {
        "id": "-mfOz-d_F7HA"
      },
      "execution_count": 3,
      "outputs": []
    },
    {
      "cell_type": "code",
      "source": [
        "# Processing a single set of inputs\n",
        "def process_single_input(file_path):\n",
        "    try:\n",
        "        with open(file_path, 'r') as file:\n",
        "            line = file.readline().strip()\n",
        "            a, b, c, time = parse_input_line(line)\n",
        "            temperature = calculate_temperature(a, b, c, time)\n",
        "            print(f\"Single Input -> Coefficients: a={a}, b={b}, c={c}, Time={time}, Temperature={temperature:.2f}\")\n",
        "    except Exception as e:\n",
        "        print(f\"Error processing single input: {e}\")"
      ],
      "metadata": {
        "id": "lelBWwN3F-pX"
      },
      "execution_count": 4,
      "outputs": []
    },
    {
      "cell_type": "code",
      "source": [
        "# Processing multiple sets of inputs\n",
        "def process_multiple_inputs(file_path):\n",
        "    try:\n",
        "        with open(file_path, 'r') as file:\n",
        "            for idx, line in enumerate(file, start=1):\n",
        "                a, b, c, time = parse_input_line(line)\n",
        "                temperature = calculate_temperature(a, b, c, time)\n",
        "                print(f\"Set {idx} -> Coefficients: a={a}, b={b}, c={c}, Time={time}, Temperature={temperature:.2f}\")\n",
        "    except Exception as e:\n",
        "        print(f\"Error processing multiple inputs: {e}\")"
      ],
      "metadata": {
        "id": "4ZQ_g1c7GGcX"
      },
      "execution_count": 5,
      "outputs": []
    },
    {
      "cell_type": "code",
      "source": [
        "def main():\n",
        "    # File paths\n",
        "    single_input_file = 'single_value.txt'\n",
        "    multiple_input_file = 'multiple_value.txt'\n",
        "\n",
        "    print(\"Processing single input\")\n",
        "    process_single_input(single_input_file)\n",
        "\n",
        "    print(\"\\nProcessing multiple inputs\")\n",
        "    process_multiple_inputs(multiple_input_file)\n",
        "\n",
        "if __name__ == \"__main__\":\n",
        "    main()"
      ],
      "metadata": {
        "colab": {
          "base_uri": "https://localhost:8080/"
        },
        "id": "bKy49o94GLEf",
        "outputId": "9e3ffa91-d5af-4de3-9c54-15ceebc800e8"
      },
      "execution_count": 10,
      "outputs": [
        {
          "output_type": "stream",
          "name": "stdout",
          "text": [
            "Processing single input\n",
            "Error processing single input: Invalid input format. Ensure the line follows the format 'a: <value> b: <value> c: <value> time: <value>'\n",
            "\n",
            "Processing multiple inputs\n",
            "Error processing multiple inputs: Invalid input format. Ensure the line follows the format 'a: <value> b: <value> c: <value> time: <value>'\n"
          ]
        }
      ]
    }
  ]
}