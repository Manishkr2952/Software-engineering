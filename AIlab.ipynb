{
  "nbformat": 4,
  "nbformat_minor": 0,
  "metadata": {
    "colab": {
      "provenance": [],
      "authorship_tag": "ABX9TyN0e/TQRjBtwC5hOWyUiS4H",
      "include_colab_link": true
    },
    "kernelspec": {
      "name": "python3",
      "display_name": "Python 3"
    },
    "language_info": {
      "name": "python"
    }
  },
  "cells": [
    {
      "cell_type": "markdown",
      "metadata": {
        "id": "view-in-github",
        "colab_type": "text"
      },
      "source": [
        "<a href=\"https://colab.research.google.com/github/Manishkr2952/Software-engineering/blob/main/AIlab.ipynb\" target=\"_parent\"><img src=\"https://colab.research.google.com/assets/colab-badge.svg\" alt=\"Open In Colab\"/></a>"
      ]
    },
    {
      "cell_type": "code",
      "source": [
        "\n",
        "# write a code for table driven based agent.\n",
        "\n",
        "#table-driven based agent\n",
        "state_action_table={\n",
        "    ('A','Clean'):'Right',\n",
        "    ('A','Dirty'):'Suck',\n",
        "    ('B','Clean'):'Left',\n",
        "    ('B','Dirty'):'Suck'\n",
        "}\n",
        "\n",
        "class TableDrivenAgent:\n",
        "  def __init__(self, state_action_table):\n",
        "    self.state_action_table = state_action_table\n",
        "\n",
        "  def get_action(self, percept):\n",
        "    return self.state_action_table.get(percept)\n",
        "\n",
        "agent = TableDrivenAgent(state_action_table)\n",
        "percepts = [('A', 'Dirty'), ('A', 'Clean'), ('B', 'Dirty'), ('B', 'Clean')]\n",
        "actions = [agent.get_action(percept) for percept in percepts]\n",
        "print(actions) # Output: ['Suck', 'Right', 'Suck', 'Left']\n"
      ],
      "metadata": {
        "colab": {
          "base_uri": "https://localhost:8080/"
        },
        "id": "j5IGyt5xft4R",
        "outputId": "210c642b-0348-420a-a305-27a80c4bb0c2"
      },
      "execution_count": null,
      "outputs": [
        {
          "output_type": "stream",
          "name": "stdout",
          "text": [
            "['Suck', 'Right', 'Suck', 'Left']\n"
          ]
        }
      ]
    },
    {
      "cell_type": "code",
      "source": [
        "# prompt: write a code for agent program for 2 state environment.\n",
        "\n",
        "class TwoStateAgent:\n",
        "  def __init__(self):\n",
        "    self.current_state = 'A'  # Start in state A\n",
        "\n",
        "  def get_action(self, percept):\n",
        "    if self.current_state == 'A':\n",
        "      action = 'Right'  # Always move to state B from A\n",
        "      self.current_state = 'B'  # Update state\n",
        "    else:  # self.current_state == 'B'\n",
        "      action = 'Left'   # Always move to state A from B\n",
        "      self.current_state = 'A'  # Update state\n",
        "    return action\n",
        "\n",
        "agent = TwoStateAgent()\n",
        "percepts = ['Dirty', 'Clean', 'Dirty', 'Clean']  # Percepts don't matter here\n",
        "actions = [agent.get_action(percept) for percept in percepts]\n",
        "print(actions)  # Output: ['Right', 'Left', 'Right', 'Left']\n",
        "\n"
      ],
      "metadata": {
        "colab": {
          "base_uri": "https://localhost:8080/"
        },
        "id": "FQTYrh78gZtB",
        "outputId": "a0d6922a-d5d8-4a6c-bf90-ecf39ae0a235"
      },
      "execution_count": null,
      "outputs": [
        {
          "output_type": "stream",
          "name": "stdout",
          "text": [
            "['Right', 'Left', 'Right', 'Left']\n"
          ]
        }
      ]
    },
    {
      "cell_type": "code",
      "source": [
        "# prompt: write a code for the vacuum cleaner for n*m environment.\n",
        "\n",
        "class VacuumCleanerAgent:\n",
        "  def __init__(self, n, m):\n",
        "    self.n = n\n",
        "    self.m = m\n",
        "    self.current_position = (0, 0)  # Start at top-left corner\n",
        "    self.direction = 'right'  # Initial direction\n",
        "    self.env = [['Dirty' for _ in range(m)] for _ in range(n)]  # Initialize environment as dirty\n",
        "\n",
        "  def get_action(self, percept):\n",
        "    x, y = self.current_position\n",
        "    if percept == 'Dirty':\n",
        "      action = 'Suck'\n",
        "      self.env[x][y] = 'Clean'  # Clean the current cell\n",
        "    else:  # percept == 'Clean'\n",
        "      if self.direction == 'right':\n",
        "        if y == self.m - 1:  # Reached right edge, turn down\n",
        "          action = 'Down'\n",
        "          self.direction = 'down'\n",
        "        else:\n",
        "          action = 'Right'\n",
        "      elif self.direction == 'down':\n",
        "        if x == self.n - 1:  # Reached bottom edge, turn left\n",
        "          action = 'Left'\n",
        "          self.direction = 'left'\n",
        "        else:\n",
        "          action = 'Down'\n",
        "      elif self.direction == 'left':\n",
        "        if y == 0:  # Reached left edge, turn up\n",
        "          action = 'Up'\n",
        "          self.direction = 'up'\n",
        "        else:\n",
        "          action = 'Left'\n",
        "      elif self.direction == 'up':\n",
        "        if x == 0:  # Reached top edge, turn right\n",
        "          action = 'Right'\n",
        "          self.direction = 'right'\n",
        "        else:\n",
        "          action = 'Up'\n",
        "\n",
        "    # Update current position based on action\n",
        "    if action == 'Right':\n",
        "      self.current_position = (x, y + 1)\n",
        "    elif action == 'Down':\n",
        "      self.current_position = (x + 1, y)\n",
        "    elif action == 'Left':\n",
        "      self.current_position = (x, y - 1)\n",
        "    elif action == 'Up':\n",
        "      self.current_position = (x - 1, y)\n",
        "\n",
        "    return action\n",
        "\n",
        "# Example usage for a 3x4 environment\n",
        "agent = VacuumCleanerAgent(3, 4)\n",
        "\n",
        "# Simulate some steps (assuming all cells start dirty)\n",
        "percepts = ['Dirty'] * 12  # 12 cells in a 3x4 environment\n",
        "actions = [agent.get_action(percept) for percept in percepts]\n",
        "print(actions)\n"
      ],
      "metadata": {
        "colab": {
          "base_uri": "https://localhost:8080/"
        },
        "id": "EY2qv-p0nKyo",
        "outputId": "0b4e68c3-2069-4869-c566-14e982e0dda5"
      },
      "execution_count": null,
      "outputs": [
        {
          "output_type": "stream",
          "name": "stdout",
          "text": [
            "['Suck', 'Suck', 'Suck', 'Suck', 'Suck', 'Suck', 'Suck', 'Suck', 'Suck', 'Suck', 'Suck', 'Suck']\n"
          ]
        }
      ]
    },
    {
      "cell_type": "code",
      "source": [
        "# prompt: write a program to make vacuum cleaner to work for 8 hour shift in a day\n",
        "\n",
        "class VacuumCleanerAgent:\n",
        "  def __init__(self, n, m):\n",
        "    self.n = n\n",
        "    self.m = m\n",
        "    self.current_position = (0, 0)\n",
        "    self.direction = 'right'\n",
        "    self.env = [['Dirty' for _ in range(m)] for _ in range(n)]\n",
        "\n",
        "  def get_action(self, percept):\n",
        "    x, y = self.current_position\n",
        "    if percept == 'Dirty':\n",
        "      action = 'Suck'\n",
        "      self.env[x][y] = 'Clean'\n",
        "    else:\n",
        "      if self.direction == 'right':\n",
        "        if y == self.m - 1:\n",
        "          action = 'Down'\n",
        "          self.direction = 'down'\n",
        "        else:\n",
        "          action = 'Right'\n",
        "      elif self.direction == 'down':\n",
        "        if x == self.n - 1:\n",
        "          action = 'Left'\n",
        "          self.direction = 'left'\n",
        "        else:\n",
        "          action = 'Down'\n",
        "      elif self.direction == 'left':\n",
        "        if y == 0:\n",
        "          action = 'Up'\n",
        "          self.direction = 'up'\n",
        "        else:\n",
        "          action = 'Left'\n",
        "      elif self.direction == 'up':\n",
        "        if x == 0:\n",
        "          action = 'Right'\n",
        "          self.direction = 'right'\n",
        "        else:\n",
        "          action = 'Up'\n",
        "\n",
        "    # Update current position based on action\n",
        "    if action == 'Right':\n",
        "      self.current_position = (x, y + 1)\n",
        "    elif action == 'Down':\n",
        "      self.current_position = (x + 1, y)\n",
        "    elif action == 'Left':\n",
        "      self.current_position = (x, y - 1)\n",
        "    elif action == 'Up':\n",
        "      self.current_position = (x - 1, y)\n",
        "\n",
        "    return action\n",
        "\n",
        "  def work_shift(self, hours):\n",
        "    for _ in range(hours * 60):  # Assuming 1 action per minute\n",
        "      x, y = self.current_position\n",
        "      percept = self.env[x][y]\n",
        "      action = self.get_action(percept)\n",
        "      print(f\"Minute {_ + 1}: Position: {self.current_position}, Percept: {percept}, Action: {action}\")\n",
        "\n",
        "\n",
        "# Example usage for a 5x5 environment and 8-hour shift\n",
        "agent = VacuumCleanerAgent(5, 5)\n",
        "agent.work_shift(8)\n"
      ],
      "metadata": {
        "id": "4nbSHP7RoGY0"
      },
      "execution_count": null,
      "outputs": []
    }
  ]
}